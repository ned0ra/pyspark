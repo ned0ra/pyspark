{
 "cells": [
  {
   "cell_type": "code",
   "execution_count": 9,
   "id": "a80f9d5a-7f46-40fa-8622-9762fc169afa",
   "metadata": {},
   "outputs": [],
   "source": [
    "from pyspark.sql import SparkSession\n",
    "spark = SparkSession.builder.getOrCreate()"
   ]
  },
  {
   "cell_type": "code",
   "execution_count": 10,
   "id": "6096a467-7a4a-45f3-955d-058e04fa55ce",
   "metadata": {},
   "outputs": [
    {
     "name": "stdout",
     "output_type": "stream",
     "text": [
      "+----+--------------------+--------+----+------------+--------------------+--------+--------+--------+-----------+------------+\n",
      "|Rank|                Name|Platform|Year|       Genre|           Publisher|NA_Sales|EU_Sales|JP_Sales|Other_Sales|Global_Sales|\n",
      "+----+--------------------+--------+----+------------+--------------------+--------+--------+--------+-----------+------------+\n",
      "|   1|          Wii Sports|     Wii|2006|      Sports|            Nintendo|   41.49|   29.02|    3.77|       8.46|       82.74|\n",
      "|   2|   Super Mario Bros.|     NES|1985|    Platform|            Nintendo|   29.08|    3.58|    6.81|       0.77|       40.24|\n",
      "|   3|      Mario Kart Wii|     Wii|2008|      Racing|            Nintendo|   15.85|   12.88|    3.79|       3.31|       35.82|\n",
      "|   4|   Wii Sports Resort|     Wii|2009|      Sports|            Nintendo|   15.75|   11.01|    3.28|       2.96|          33|\n",
      "|   5|Pokemon Red/Pokem...|      GB|1996|Role-Playing|            Nintendo|   11.27|    8.89|   10.22|          1|       31.37|\n",
      "|   6|              Tetris|      GB|1989|      Puzzle|            Nintendo|    23.2|    2.26|    4.22|       0.58|       30.26|\n",
      "|   7|New Super Mario B...|      DS|2006|    Platform|            Nintendo|   11.38|    9.23|     6.5|        2.9|       30.01|\n",
      "|   8|            Wii Play|     Wii|2006|        Misc|            Nintendo|   14.03|     9.2|    2.93|       2.85|       29.02|\n",
      "|   9|New Super Mario B...|     Wii|2009|    Platform|            Nintendo|   14.59|    7.06|     4.7|       2.26|       28.62|\n",
      "|  10|           Duck Hunt|     NES|1984|     Shooter|            Nintendo|   26.93|    0.63|    0.28|       0.47|       28.31|\n",
      "|  11|          Nintendogs|      DS|2005|  Simulation|            Nintendo|    9.07|      11|    1.93|       2.75|       24.76|\n",
      "|  12|       Mario Kart DS|      DS|2005|      Racing|            Nintendo|    9.81|    7.57|    4.13|       1.92|       23.42|\n",
      "|  13|Pokemon Gold/Poke...|      GB|1999|Role-Playing|            Nintendo|       9|    6.18|     7.2|       0.71|        23.1|\n",
      "|  14|             Wii Fit|     Wii|2007|      Sports|            Nintendo|    8.94|    8.03|     3.6|       2.15|       22.72|\n",
      "|  15|        Wii Fit Plus|     Wii|2009|      Sports|            Nintendo|    9.09|    8.59|    2.53|       1.79|          22|\n",
      "|  16|  Kinect Adventures!|    X360|2010|        Misc|Microsoft Game St...|   14.97|    4.94|    0.24|       1.67|       21.82|\n",
      "|  17|  Grand Theft Auto V|     PS3|2013|      Action|Take-Two Interactive|    7.01|    9.27|    0.97|       4.14|        21.4|\n",
      "|  18|Grand Theft Auto:...|     PS2|2004|      Action|Take-Two Interactive|    9.43|     0.4|    0.41|      10.57|       20.81|\n",
      "|  19|   Super Mario World|    SNES|1990|    Platform|            Nintendo|   12.78|    3.75|    3.54|       0.55|       20.61|\n",
      "|  20|Brain Age: Train ...|      DS|2005|        Misc|            Nintendo|    4.75|    9.26|    4.16|       2.05|       20.22|\n",
      "+----+--------------------+--------+----+------------+--------------------+--------+--------+--------+-----------+------------+\n",
      "only showing top 20 rows\n",
      "\n"
     ]
    }
   ],
   "source": [
    "df = spark.read.option(\"header\", True).csv('data/vgsales.csv')\n",
    "df.show()"
   ]
  },
  {
   "cell_type": "code",
   "execution_count": 11,
   "id": "3d044483-c656-4e5f-8393-ab050a5f3e24",
   "metadata": {},
   "outputs": [],
   "source": [
    "from pyspark.sql.functions import col, sum, round\n",
    "import pyspark.sql.functions as func\n",
    "from pyspark.sql.window import Window"
   ]
  },
  {
   "cell_type": "code",
   "execution_count": 12,
   "id": "2e5b577a-8642-4f9f-b4dd-2ac9e7b6a2e3",
   "metadata": {},
   "outputs": [
    {
     "name": "stdout",
     "output_type": "stream",
     "text": [
      "+----+--------------------+--------+----+--------+------------+--------+--------+--------+-----------+------------+------------------------+\n",
      "|Rank|                Name|Platform|Year|   Genre|   Publisher|NA_Sales|EU_Sales|JP_Sales|Other_Sales|Global_Sales|round(Sales_per_year, 2)|\n",
      "+----+--------------------+--------+----+--------+------------+--------+--------+--------+-----------+------------+------------------------+\n",
      "| 259|           Asteroids|    2600|1980| Shooter|       Atari|       4|    0.26|       0|       0.05|        4.31|                   11.38|\n",
      "| 545|     Missile Command|    2600|1980| Shooter|       Atari|    2.56|    0.17|       0|       0.03|        2.76|                   11.38|\n",
      "|1768|             Kaboom!|    2600|1980|    Misc|  Activision|    1.07|    0.07|       0|       0.01|        1.15|                   11.38|\n",
      "|1971|            Defender|    2600|1980|    Misc|       Atari|    0.99|    0.05|       0|       0.01|        1.05|                   11.38|\n",
      "|2671|              Boxing|    2600|1980|Fighting|  Activision|    0.72|    0.04|       0|       0.01|        0.77|                   11.38|\n",
      "|4027|          Ice Hockey|    2600|1980|  Sports|  Activision|    0.46|    0.03|       0|       0.01|        0.49|                   11.38|\n",
      "|5368|             Freeway|    2600|1980|  Action|  Activision|    0.32|    0.02|       0|          0|        0.34|                   11.38|\n",
      "|6319|              Bridge|    2600|1980|    Misc|  Activision|    0.25|    0.02|       0|          0|        0.27|                   11.38|\n",
      "|6898|            Checkers|    2600|1980|    Misc|       Atari|    0.22|    0.01|       0|          0|        0.24|                   11.38|\n",
      "| 240|            Pitfall!|    2600|1981|Platform|  Activision|    4.21|    0.24|       0|       0.05|         4.5|                   35.77|\n",
      "| 736|             Frogger|    2600|1981|  Action|Parker Bros.|    2.06|    0.12|       0|       0.02|         2.2|                   35.77|\n",
      "| 768|        Demon Attack|    2600|1981| Shooter|      Imagic|    1.99|    0.12|       0|       0.02|        2.13|                   35.77|\n",
      "| 866|E.T.: The Extra T...|    2600|1981|  Action|       Atari|    1.84|    0.11|       0|       0.02|        1.97|                   35.77|\n",
      "|1108|         Ms. Pac-Man|    2600|1981|  Puzzle|       Atari|    1.54|     0.1|       0|       0.02|        1.65|                   35.77|\n",
      "|1155|          River Raid|    2600|1981| Shooter|  Activision|    1.49|    0.09|       0|       0.02|         1.6|                   35.77|\n",
      "|1308|         Donkey Kong|    2600|1981|Platform|      Coleco|    1.36|    0.08|       0|       0.02|        1.46|                   35.77|\n",
      "|1431|           Centipede|    2600|1981| Shooter|       Atari|    1.26|    0.08|       0|       0.01|        1.36|                   35.77|\n",
      "|1558|            Atlantis|    2600|1981| Shooter|      Imagic|    1.18|    0.08|       0|       0.01|        1.27|                   35.77|\n",
      "|1850|           Megamania|    2600|1981| Shooter|  Activision|    1.03|    0.06|       0|       0.01|         1.1|                   35.77|\n",
      "|1967|          Cosmic Ark|    2600|1981| Shooter|      Imagic|    0.99|    0.05|       0|       0.01|        1.05|                   35.77|\n",
      "+----+--------------------+--------+----+--------+------------+--------+--------+--------+-----------+------------+------------------------+\n",
      "only showing top 20 rows\n",
      "\n"
     ]
    }
   ],
   "source": [
    "df = df.withColumn('Sales_per_year', sum('Global_Sales').over(Window.partitionBy('Year')))\n",
    "df = df.withColumn('Sales_per_year', df['Sales_per_year'].cast('float'))\n",
    "df = df.select('*',round('Sales_per_year',2))\n",
    "df = df.drop('Sales_per_year')\n",
    "df.show()"
   ]
  },
  {
   "cell_type": "code",
   "execution_count": 13,
   "id": "63d16816-0391-4cff-b9ce-e831e401c439",
   "metadata": {},
   "outputs": [
    {
     "name": "stdout",
     "output_type": "stream",
     "text": [
      "+----+--------------------+--------+----+--------+------------+--------+--------+--------+-----------+------------+------------------------+--------------------------------+\n",
      "|Rank|                Name|Platform|Year|   Genre|   Publisher|NA_Sales|EU_Sales|JP_Sales|Other_Sales|Global_Sales|round(Sales_per_year, 2)|round(Sales_year_platform_NA, 2)|\n",
      "+----+--------------------+--------+----+--------+------------+--------+--------+--------+-----------+------------+------------------------+--------------------------------+\n",
      "| 259|           Asteroids|    2600|1980| Shooter|       Atari|       4|    0.26|       0|       0.05|        4.31|                   11.38|                           10.59|\n",
      "| 545|     Missile Command|    2600|1980| Shooter|       Atari|    2.56|    0.17|       0|       0.03|        2.76|                   11.38|                           10.59|\n",
      "|1768|             Kaboom!|    2600|1980|    Misc|  Activision|    1.07|    0.07|       0|       0.01|        1.15|                   11.38|                           10.59|\n",
      "|1971|            Defender|    2600|1980|    Misc|       Atari|    0.99|    0.05|       0|       0.01|        1.05|                   11.38|                           10.59|\n",
      "|2671|              Boxing|    2600|1980|Fighting|  Activision|    0.72|    0.04|       0|       0.01|        0.77|                   11.38|                           10.59|\n",
      "|4027|          Ice Hockey|    2600|1980|  Sports|  Activision|    0.46|    0.03|       0|       0.01|        0.49|                   11.38|                           10.59|\n",
      "|5368|             Freeway|    2600|1980|  Action|  Activision|    0.32|    0.02|       0|          0|        0.34|                   11.38|                           10.59|\n",
      "|6319|              Bridge|    2600|1980|    Misc|  Activision|    0.25|    0.02|       0|          0|        0.27|                   11.38|                           10.59|\n",
      "|6898|            Checkers|    2600|1980|    Misc|       Atari|    0.22|    0.01|       0|          0|        0.24|                   11.38|                           10.59|\n",
      "| 240|            Pitfall!|    2600|1981|Platform|  Activision|    4.21|    0.24|       0|       0.05|         4.5|                   35.77|                            33.4|\n",
      "| 736|             Frogger|    2600|1981|  Action|Parker Bros.|    2.06|    0.12|       0|       0.02|         2.2|                   35.77|                            33.4|\n",
      "| 768|        Demon Attack|    2600|1981| Shooter|      Imagic|    1.99|    0.12|       0|       0.02|        2.13|                   35.77|                            33.4|\n",
      "| 866|E.T.: The Extra T...|    2600|1981|  Action|       Atari|    1.84|    0.11|       0|       0.02|        1.97|                   35.77|                            33.4|\n",
      "|1108|         Ms. Pac-Man|    2600|1981|  Puzzle|       Atari|    1.54|     0.1|       0|       0.02|        1.65|                   35.77|                            33.4|\n",
      "|1155|          River Raid|    2600|1981| Shooter|  Activision|    1.49|    0.09|       0|       0.02|         1.6|                   35.77|                            33.4|\n",
      "|1308|         Donkey Kong|    2600|1981|Platform|      Coleco|    1.36|    0.08|       0|       0.02|        1.46|                   35.77|                            33.4|\n",
      "|1431|           Centipede|    2600|1981| Shooter|       Atari|    1.26|    0.08|       0|       0.01|        1.36|                   35.77|                            33.4|\n",
      "|1558|            Atlantis|    2600|1981| Shooter|      Imagic|    1.18|    0.08|       0|       0.01|        1.27|                   35.77|                            33.4|\n",
      "|1850|           Megamania|    2600|1981| Shooter|  Activision|    1.03|    0.06|       0|       0.01|         1.1|                   35.77|                            33.4|\n",
      "|1967|          Cosmic Ark|    2600|1981| Shooter|      Imagic|    0.99|    0.05|       0|       0.01|        1.05|                   35.77|                            33.4|\n",
      "+----+--------------------+--------+----+--------+------------+--------+--------+--------+-----------+------------+------------------------+--------------------------------+\n",
      "only showing top 20 rows\n",
      "\n"
     ]
    }
   ],
   "source": [
    "df = df.withColumn('Sales_year_platform_NA', sum('NA_Sales').over(Window.partitionBy('Year','Platform')))\n",
    "df = df.withColumn('Sales_year_platform_NA', df['Sales_year_platform_NA'].cast('float'))\n",
    "df = df.select('*',round('Sales_year_platform_NA',2))\n",
    "df = df.drop('Sales_year_platform_NA')\n",
    "\n",
    "df.show()"
   ]
  },
  {
   "cell_type": "code",
   "execution_count": 26,
   "id": "c7ef3af6-4d39-41b0-8f55-b592fca365a2",
   "metadata": {},
   "outputs": [
    {
     "name": "stdout",
     "output_type": "stream",
     "text": [
      "+----+--------------------+--------+----+--------+------------+--------+--------+--------+-----------+------------+--------------+------------------------+----------------------+--------------------------------+----------------------+--------------------------------+\n",
      "|Rank|                Name|Platform|Year|   Genre|   Publisher|NA_Sales|EU_Sales|JP_Sales|Other_Sales|Global_Sales|Sales_per_year|round(Sales_per_year, 2)|Sales_year_platform_NA|round(Sales_year_platform_NA, 2)|Sales_year_platform_EU|round(Sales_year_platform_EU, 2)|\n",
      "+----+--------------------+--------+----+--------+------------+--------+--------+--------+-----------+------------+--------------+------------------------+----------------------+--------------------------------+----------------------+--------------------------------+\n",
      "| 259|           Asteroids|    2600|1980| Shooter|       Atari|       4|    0.26|       0|       0.05|        4.31|         11.38|                   11.38|                 10.59|                           10.59|                  0.67|                            0.67|\n",
      "| 545|     Missile Command|    2600|1980| Shooter|       Atari|    2.56|    0.17|       0|       0.03|        2.76|         11.38|                   11.38|                 10.59|                           10.59|                  0.67|                            0.67|\n",
      "|1768|             Kaboom!|    2600|1980|    Misc|  Activision|    1.07|    0.07|       0|       0.01|        1.15|         11.38|                   11.38|                 10.59|                           10.59|                  0.67|                            0.67|\n",
      "|1971|            Defender|    2600|1980|    Misc|       Atari|    0.99|    0.05|       0|       0.01|        1.05|         11.38|                   11.38|                 10.59|                           10.59|                  0.67|                            0.67|\n",
      "|2671|              Boxing|    2600|1980|Fighting|  Activision|    0.72|    0.04|       0|       0.01|        0.77|         11.38|                   11.38|                 10.59|                           10.59|                  0.67|                            0.67|\n",
      "|4027|          Ice Hockey|    2600|1980|  Sports|  Activision|    0.46|    0.03|       0|       0.01|        0.49|         11.38|                   11.38|                 10.59|                           10.59|                  0.67|                            0.67|\n",
      "|5368|             Freeway|    2600|1980|  Action|  Activision|    0.32|    0.02|       0|          0|        0.34|         11.38|                   11.38|                 10.59|                           10.59|                  0.67|                            0.67|\n",
      "|6319|              Bridge|    2600|1980|    Misc|  Activision|    0.25|    0.02|       0|          0|        0.27|         11.38|                   11.38|                 10.59|                           10.59|                  0.67|                            0.67|\n",
      "|6898|            Checkers|    2600|1980|    Misc|       Atari|    0.22|    0.01|       0|          0|        0.24|         11.38|                   11.38|                 10.59|                           10.59|                  0.67|                            0.67|\n",
      "| 240|            Pitfall!|    2600|1981|Platform|  Activision|    4.21|    0.24|       0|       0.05|         4.5|         35.77|                   35.77|                  33.4|                            33.4|                  1.96|                            1.96|\n",
      "| 736|             Frogger|    2600|1981|  Action|Parker Bros.|    2.06|    0.12|       0|       0.02|         2.2|         35.77|                   35.77|                  33.4|                            33.4|                  1.96|                            1.96|\n",
      "| 768|        Demon Attack|    2600|1981| Shooter|      Imagic|    1.99|    0.12|       0|       0.02|        2.13|         35.77|                   35.77|                  33.4|                            33.4|                  1.96|                            1.96|\n",
      "| 866|E.T.: The Extra T...|    2600|1981|  Action|       Atari|    1.84|    0.11|       0|       0.02|        1.97|         35.77|                   35.77|                  33.4|                            33.4|                  1.96|                            1.96|\n",
      "|1108|         Ms. Pac-Man|    2600|1981|  Puzzle|       Atari|    1.54|     0.1|       0|       0.02|        1.65|         35.77|                   35.77|                  33.4|                            33.4|                  1.96|                            1.96|\n",
      "|1155|          River Raid|    2600|1981| Shooter|  Activision|    1.49|    0.09|       0|       0.02|         1.6|         35.77|                   35.77|                  33.4|                            33.4|                  1.96|                            1.96|\n",
      "|1308|         Donkey Kong|    2600|1981|Platform|      Coleco|    1.36|    0.08|       0|       0.02|        1.46|         35.77|                   35.77|                  33.4|                            33.4|                  1.96|                            1.96|\n",
      "|1431|           Centipede|    2600|1981| Shooter|       Atari|    1.26|    0.08|       0|       0.01|        1.36|         35.77|                   35.77|                  33.4|                            33.4|                  1.96|                            1.96|\n",
      "|1558|            Atlantis|    2600|1981| Shooter|      Imagic|    1.18|    0.08|       0|       0.01|        1.27|         35.77|                   35.77|                  33.4|                            33.4|                  1.96|                            1.96|\n",
      "|1850|           Megamania|    2600|1981| Shooter|  Activision|    1.03|    0.06|       0|       0.01|         1.1|         35.77|                   35.77|                  33.4|                            33.4|                  1.96|                            1.96|\n",
      "|1967|          Cosmic Ark|    2600|1981| Shooter|      Imagic|    0.99|    0.05|       0|       0.01|        1.05|         35.77|                   35.77|                  33.4|                            33.4|                  1.96|                            1.96|\n",
      "+----+--------------------+--------+----+--------+------------+--------+--------+--------+-----------+------------+--------------+------------------------+----------------------+--------------------------------+----------------------+--------------------------------+\n",
      "only showing top 20 rows\n",
      "\n"
     ]
    }
   ],
   "source": [
    "df = df.withColumn('Sales_year_platform_EU', sum('EU_Sales').over(Window.partitionBy('Year','Platform')))\n",
    "df = df.withColumn('Sales_year_platform_EU', df['Sales_year_platform_EU'].cast('float'))\n",
    "df = df.select('*',round('Sales_year_platform_EU',2))\n",
    "df = df.drop('Sales_year_platform_EU')"
   ]
  },
  {
   "cell_type": "code",
   "execution_count": 14,
   "id": "958fd655-23b1-4794-8516-e5e025e50c3b",
   "metadata": {},
   "outputs": [],
   "source": [
    "df = df.withColumn('Sales_year_platform_JP', sum('JP_Sales').over(Window.partitionBy('Year','Platform')))\n",
    "df = df.withColumn('Sales_year_platform_JP', df['Sales_year_platform_JP'].cast('float'))\n",
    "df = df.select('*',round('Sales_year_platform_JP',2))\n",
    "df = df.drop('Sales_year_platform_JP')"
   ]
  },
  {
   "cell_type": "code",
   "execution_count": 15,
   "id": "15839287-315d-4108-8ea4-cd50a2d18261",
   "metadata": {},
   "outputs": [],
   "source": [
    "df = df.withColumn('Sales_year_platform_Other', sum('Other_Sales').over(Window.partitionBy('Year','Platform')))\n",
    "df = df.withColumn('Sales_year_platform_Other', df['Sales_year_platform_Other'].cast('float'))\n",
    "df = df.select('*',round('Sales_year_platform_Other',2))\n",
    "df = df.drop('Sales_year_platform_Other')"
   ]
  },
  {
   "cell_type": "code",
   "execution_count": 16,
   "id": "ff68bc76-ab19-4de3-bd9c-2ff170a4d831",
   "metadata": {},
   "outputs": [],
   "source": [
    "df = df.withColumn('Percent_publisher_NA', col('NA_Sales')/sum(col('NA_Sales')).over(Window.partitionBy('Year','Platform')))\n",
    "df = df.withColumn('Percent_publisher_NA', df['Percent_publisher_NA'].cast('float'))\n",
    "df = df.select('*',round('Percent_publisher_NA',2))\n",
    "df = df.drop('Percent_publisher_NA')"
   ]
  },
  {
   "cell_type": "code",
   "execution_count": 17,
   "id": "6491f6c5-e7f7-412b-ad13-ac450cfaa00b",
   "metadata": {},
   "outputs": [],
   "source": [
    "df = df.withColumn('Percent_publisher_EU', col('EU_Sales')/sum(col('EU_Sales')).over(Window.partitionBy('Year','Platform')))\n",
    "df = df.withColumn('Percent_publisher_EU', df['Percent_publisher_EU'].cast('float'))\n",
    "df = df.select('*',round('Percent_publisher_EU',2))\n",
    "df = df.drop('Percent_publisher_EU')"
   ]
  },
  {
   "cell_type": "code",
   "execution_count": 18,
   "id": "7b723d76-5a8d-4e94-8db2-8493ad86e986",
   "metadata": {},
   "outputs": [],
   "source": [
    "df = df.withColumn('Percent_publisher_JP', col('JP_Sales')/sum(col('JP_Sales')).over(Window.partitionBy('Year','Platform')))\n",
    "df = df.withColumn('Percent_publisher_JP', df['Percent_publisher_JP'].cast('float'))\n",
    "df = df.select('*',round('Percent_publisher_JP',2))\n",
    "df = df.drop('Percent_publisher_JP')"
   ]
  },
  {
   "cell_type": "code",
   "execution_count": 19,
   "id": "c826f6d9-8870-45f8-9f62-1947e2705256",
   "metadata": {},
   "outputs": [],
   "source": [
    "df = df.withColumn('Percent_publisher_Other', col('Other_Sales')/sum(col('Other_Sales')).over(Window.partitionBy('Year','Platform')))\n",
    "df = df.withColumn('Percent_publisher_Other', df['Percent_publisher_Other'].cast('float'))\n",
    "df = df.select('*',round('Percent_publisher_Other',2))\n",
    "df = df.drop('Percent_publisher_Other')"
   ]
  },
  {
   "cell_type": "code",
   "execution_count": 20,
   "id": "57e6037c-d1bf-4ace-b95d-1064d7f72dea",
   "metadata": {},
   "outputs": [],
   "source": [
    "df = df.withColumn('Percent_publisher', col('Global_Sales')/sum(col('Global_Sales')).over(Window.partitionBy('Publisher')))\n",
    "df = df.withColumn('Percent_publisher', df['Percent_publisher'].cast('float'))\n",
    "df = df.select('*',round('Percent_publisher',2))\n",
    "df = df.drop('Percent_publisher')"
   ]
  },
  {
   "cell_type": "code",
   "execution_count": 21,
   "id": "971d3c2e-a8ec-4fd2-8b8e-eaaaf2bcc94b",
   "metadata": {},
   "outputs": [],
   "source": [
    "df = df.withColumn('Game_sales', sum('Global_Sales').over(Window.partitionBy('Year')))\n",
    "df = df.withColumn('Game_sales', df['Game_sales'].cast('float'))\n",
    "df = df.select('*',round('Game_sales',2))\n",
    "df = df.drop('Game_sales')"
   ]
  },
  {
   "cell_type": "code",
   "execution_count": 22,
   "id": "8efa1a49-a2b4-4196-a0fe-87133285cf01",
   "metadata": {},
   "outputs": [
    {
     "name": "stdout",
     "output_type": "stream",
     "text": [
      "root\n",
      " |-- Rank: string (nullable = true)\n",
      " |-- Name: string (nullable = true)\n",
      " |-- Platform: string (nullable = true)\n",
      " |-- Year: string (nullable = true)\n",
      " |-- Genre: string (nullable = true)\n",
      " |-- Publisher: string (nullable = true)\n",
      " |-- NA_Sales: string (nullable = true)\n",
      " |-- EU_Sales: string (nullable = true)\n",
      " |-- JP_Sales: string (nullable = true)\n",
      " |-- Other_Sales: string (nullable = true)\n",
      " |-- Global_Sales: string (nullable = true)\n",
      " |-- round(Sales_per_year, 2): float (nullable = true)\n",
      " |-- round(Sales_year_platform_NA, 2): float (nullable = true)\n",
      " |-- round(Sales_year_platform_JP, 2): float (nullable = true)\n",
      " |-- round(Sales_year_platform_Other, 2): float (nullable = true)\n",
      " |-- round(Percent_publisher_NA, 2): float (nullable = true)\n",
      " |-- round(Percent_publisher_EU, 2): float (nullable = true)\n",
      " |-- round(Percent_publisher_JP, 2): float (nullable = true)\n",
      " |-- round(Percent_publisher_Other, 2): float (nullable = true)\n",
      " |-- round(Percent_publisher, 2): float (nullable = true)\n",
      " |-- round(Game_sales, 2): float (nullable = true)\n",
      "\n"
     ]
    }
   ],
   "source": [
    "df.printSchema()"
   ]
  },
  {
   "cell_type": "code",
   "execution_count": 23,
   "id": "f3a31b0b-6ee0-4c74-8215-f5622be40c78",
   "metadata": {},
   "outputs": [
    {
     "name": "stdout",
     "output_type": "stream",
     "text": [
      "+----+--------------------+--------+----+--------+--------------------+--------+--------+--------+-----------+------------+------------------------+--------------------------------+--------------------------------+-----------------------------------+------------------------------+------------------------------+------------------------------+---------------------------------+---------------------------+--------------------+\n",
      "|Rank|                Name|Platform|Year|   Genre|           Publisher|NA_Sales|EU_Sales|JP_Sales|Other_Sales|Global_Sales|round(Sales_per_year, 2)|round(Sales_year_platform_NA, 2)|round(Sales_year_platform_JP, 2)|round(Sales_year_platform_Other, 2)|round(Percent_publisher_NA, 2)|round(Percent_publisher_EU, 2)|round(Percent_publisher_JP, 2)|round(Percent_publisher_Other, 2)|round(Percent_publisher, 2)|round(Game_sales, 2)|\n",
      "+----+--------------------+--------+----+--------+--------------------+--------+--------+--------+-----------+------------+------------------------+--------------------------------+--------------------------------+-----------------------------------+------------------------------+------------------------------+------------------------------+---------------------------------+---------------------------+--------------------+\n",
      "|1768|             Kaboom!|    2600|1980|    Misc|          Activision|    1.07|    0.07|       0|       0.01|        1.15|                   11.38|                           10.59|                             0.0|                               0.12|                           0.1|                           0.1|                          NULL|                             0.08|                        0.0|               11.38|\n",
      "|2671|              Boxing|    2600|1980|Fighting|          Activision|    0.72|    0.04|       0|       0.01|        0.77|                   11.38|                           10.59|                             0.0|                               0.12|                          0.07|                          0.06|                          NULL|                             0.08|                        0.0|               11.38|\n",
      "|4027|          Ice Hockey|    2600|1980|  Sports|          Activision|    0.46|    0.03|       0|       0.01|        0.49|                   11.38|                           10.59|                             0.0|                               0.12|                          0.04|                          0.04|                          NULL|                             0.08|                        0.0|               11.38|\n",
      "|5368|             Freeway|    2600|1980|  Action|          Activision|    0.32|    0.02|       0|          0|        0.34|                   11.38|                           10.59|                             0.0|                               0.12|                          0.03|                          0.03|                          NULL|                              0.0|                        0.0|               11.38|\n",
      "|6319|              Bridge|    2600|1980|    Misc|          Activision|    0.25|    0.02|       0|          0|        0.27|                   11.38|                           10.59|                             0.0|                               0.12|                          0.02|                          0.03|                          NULL|                              0.0|                        0.0|               11.38|\n",
      "| 259|           Asteroids|    2600|1980| Shooter|               Atari|       4|    0.26|       0|       0.05|        4.31|                   11.38|                           10.59|                             0.0|                               0.12|                          0.38|                          0.39|                          NULL|                             0.42|                       0.03|               11.38|\n",
      "| 545|     Missile Command|    2600|1980| Shooter|               Atari|    2.56|    0.17|       0|       0.03|        2.76|                   11.38|                           10.59|                             0.0|                               0.12|                          0.24|                          0.25|                          NULL|                             0.25|                       0.02|               11.38|\n",
      "|1971|            Defender|    2600|1980|    Misc|               Atari|    0.99|    0.05|       0|       0.01|        1.05|                   11.38|                           10.59|                             0.0|                               0.12|                          0.09|                          0.07|                          NULL|                             0.08|                       0.01|               11.38|\n",
      "|6898|            Checkers|    2600|1980|    Misc|               Atari|    0.22|    0.01|       0|          0|        0.24|                   11.38|                           10.59|                             0.0|                               0.12|                          0.02|                          0.01|                          NULL|                              0.0|                        0.0|               11.38|\n",
      "|2598|               Alien|    2600|1981|  Action|20th Century Fox ...|    0.74|    0.04|       0|       0.01|        0.79|                   35.77|                            33.4|                             0.0|                               0.32|                          0.02|                          0.02|                          NULL|                             0.03|                       0.41|               35.77|\n",
      "|5391|    Fantastic Voyage|    2600|1981|  Action|20th Century Fox ...|    0.32|    0.02|       0|          0|        0.34|                   35.77|                            33.4|                             0.0|                               0.32|                          0.01|                          0.01|                          NULL|                              0.0|                       0.18|               35.77|\n",
      "|7150|         Deadly Duck|    2600|1981| Shooter|20th Century Fox ...|    0.21|    0.01|       0|          0|        0.22|                   35.77|                            33.4|                             0.0|                               0.32|                          0.01|                          0.01|                          NULL|                              0.0|                       0.11|               35.77|\n",
      "| 240|            Pitfall!|    2600|1981|Platform|          Activision|    4.21|    0.24|       0|       0.05|         4.5|                   35.77|                            33.4|                             0.0|                               0.32|                          0.13|                          0.12|                          NULL|                             0.16|                       0.01|               35.77|\n",
      "|1155|          River Raid|    2600|1981| Shooter|          Activision|    1.49|    0.09|       0|       0.02|         1.6|                   35.77|                            33.4|                             0.0|                               0.32|                          0.04|                          0.05|                          NULL|                             0.06|                        0.0|               35.77|\n",
      "|1850|           Megamania|    2600|1981| Shooter|          Activision|    1.03|    0.06|       0|       0.01|         1.1|                   35.77|                            33.4|                             0.0|                               0.32|                          0.03|                          0.03|                          NULL|                             0.03|                        0.0|               35.77|\n",
      "|4141|          Grand Prix|    2600|1981|  Racing|          Activision|    0.45|    0.03|       0|          0|        0.48|                   35.77|                            33.4|                             0.0|                               0.32|                          0.01|                          0.02|                          NULL|                              0.0|                        0.0|               35.77|\n",
      "|4519|        Barnstorming|    2600|1981|  Action|          Activision|     0.4|    0.02|       0|          0|        0.43|                   35.77|                            33.4|                             0.0|                               0.32|                          0.01|                          0.01|                          NULL|                              0.0|                        0.0|               35.77|\n",
      "|4910|         Laser Blast|    2600|1981|  Action|          Activision|    0.37|    0.02|       0|          0|        0.39|                   35.77|                            33.4|                             0.0|                               0.32|                          0.01|                          0.01|                          NULL|                              0.0|                        0.0|               35.77|\n",
      "| 866|E.T.: The Extra T...|    2600|1981|  Action|               Atari|    1.84|    0.11|       0|       0.02|        1.97|                   35.77|                            33.4|                             0.0|                               0.32|                          0.06|                          0.06|                          NULL|                             0.06|                       0.01|               35.77|\n",
      "|1108|         Ms. Pac-Man|    2600|1981|  Puzzle|               Atari|    1.54|     0.1|       0|       0.02|        1.65|                   35.77|                            33.4|                             0.0|                               0.32|                          0.05|                          0.05|                          NULL|                             0.06|                       0.01|               35.77|\n",
      "+----+--------------------+--------+----+--------+--------------------+--------+--------+--------+-----------+------------+------------------------+--------------------------------+--------------------------------+-----------------------------------+------------------------------+------------------------------+------------------------------+---------------------------------+---------------------------+--------------------+\n",
      "only showing top 20 rows\n",
      "\n"
     ]
    }
   ],
   "source": [
    "df.show()"
   ]
  },
  {
   "cell_type": "code",
   "execution_count": null,
   "id": "ac5db64c-b9c3-4ea6-8d4d-4d1bd1ef547a",
   "metadata": {},
   "outputs": [],
   "source": []
  }
 ],
 "metadata": {
  "kernelspec": {
   "display_name": "Python 3 (ipykernel)",
   "language": "python",
   "name": "python3"
  },
  "language_info": {
   "codemirror_mode": {
    "name": "ipython",
    "version": 3
   },
   "file_extension": ".py",
   "mimetype": "text/x-python",
   "name": "python",
   "nbconvert_exporter": "python",
   "pygments_lexer": "ipython3",
   "version": "3.11.6"
  }
 },
 "nbformat": 4,
 "nbformat_minor": 5
}
